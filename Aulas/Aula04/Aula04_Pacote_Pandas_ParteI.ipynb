{
 "cells": [
  {
   "cell_type": "markdown",
   "metadata": {
    "id": "N-mTzCHbWA7U"
   },
   "source": [
    "# Disciplina: Ciência de Dados (DCA-0131)\n",
    "Prof. Luiz Affonso Guedes\n",
    "\n",
    "### Departamento de Engenharia de Computação e Automação - DCA\n",
    "\n",
    "UFRN - 2025\n",
    "\n",
    "*OBS: Favor fazer cópia do notebook antes de alterá-lo.\n"
   ]
  },
  {
   "cell_type": "markdown",
   "metadata": {
    "id": "zUEd2WcTWA7Y"
   },
   "source": [
    "## Aula 4 - Pacote Pandas - Parte I\n",
    "\n",
    "O pacote Pandas é construído sobre os pacotes Numpy e MathPlotLib. Porém, diferentemente dos arrays de NumPy, variáveis manipuladas pelo Pandas podem ser de tipos diversos (não homogêneos). Assim, uma determinada variável pode conter elementos de diversos tipos. DataFrame e Series são exemplos de dados complexo de Pandas.\n",
    "\n",
    "- DataFrames são dados \"retangulares\", usualmente utilizados para representar informação em formato de planilha, por exemplo. Assim, as colunas devem ter as mesmas dimensões e cada coluna contém elementos de um mesmo tipo de dado.\n",
    "\n",
    "- Series são objetos tipo array uni-dimensional contendo um array de dados (equivalente ao array uni-dimensional NumPy) e um array de labels do array de dados (denominados de index da Serie). Na sua forma mais simples, Series podem conter apenas os arrays de dados. Neste caso, os indexes seguem o padrão dos arrays NumPy (índices de zero a n-1).\n",
    "\n",
    "A aprtir desses tipos de dados, Pandas implementa uma série de operações de alto nível, úteis principalmente para usuários familiarizados com banco de dados e planilhas."
   ]
  },
  {
   "cell_type": "markdown",
   "metadata": {
    "id": "iPXYs9p5NkaF"
   },
   "source": []
  },
  {
   "cell_type": "markdown",
   "metadata": {
    "id": "bWEQaqiEWA7b"
   },
   "source": [
    "\n",
    "\n",
    "\n",
    "### Convensão de notação:\n",
    "- from pandas import Series, DataFrame\n",
    "- import pandas as pd"
   ]
  },
  {
   "cell_type": "code",
   "execution_count": null,
   "metadata": {
    "id": "kTpx8Vf1WA7g"
   },
   "outputs": [],
   "source": [
    "# Exemplo: Importanto Pandas\n",
    "\n",
    "from pandas import Series, DataFrame\n",
    "import pandas as pd\n"
   ]
  },
  {
   "cell_type": "markdown",
   "metadata": {
    "id": "R4lSoiT7WA8G"
   },
   "source": [
    "## 1. Objeto do tipo Serie em Pandas"
   ]
  },
  {
   "cell_type": "code",
   "execution_count": null,
   "metadata": {
    "id": "skZUe9VFWA8I"
   },
   "outputs": [],
   "source": [
    "# Exemplo: criação de um objeto Pandas do tipo Series\n",
    "# - sem especificar os seus índices\n",
    "\n",
    "dado = pd.Series([0.25, 0.5, 0.75, 1.0])\n",
    "dado"
   ]
  },
  {
   "cell_type": "code",
   "execution_count": null,
   "metadata": {
    "id": "OtylEOIKVuyl"
   },
   "outputs": [],
   "source": [
    "type(dado)"
   ]
  },
  {
   "cell_type": "code",
   "execution_count": null,
   "metadata": {
    "id": "TXh4sntbWA8R"
   },
   "outputs": [],
   "source": [
    "# Exemplo: criação de um objeto Pandas do tipo Series\n",
    "# - sem especificar os seus índices\n",
    "\n",
    "obj_Serie = Series([4, 7, -5, 3])\n",
    "print(obj_Serie)\n",
    "type(obj_Serie)"
   ]
  },
  {
   "cell_type": "code",
   "execution_count": null,
   "metadata": {
    "id": "Dpmum7NEWA8d"
   },
   "outputs": [],
   "source": [
    "# Exemplo: Acessando valores de um objeto do tipo Serie - Pandas\n",
    "print(obj_Serie.values)\n",
    "type(obj_Serie.values)\n"
   ]
  },
  {
   "cell_type": "code",
   "execution_count": null,
   "metadata": {
    "id": "MQJ1mfVDWA8w"
   },
   "outputs": [],
   "source": [
    "# Exemplo: Acessando indexes de um objeto do tipo Serie - Pandas\n",
    "\n",
    "print(obj_Serie.index)\n",
    "type(obj_Serie.index)"
   ]
  },
  {
   "cell_type": "markdown",
   "metadata": {
    "id": "kGtdRel3WA8-"
   },
   "source": [
    "### Observação:\n",
    "Pelo que vimos até agora, pode parecer que o objeto Series é basicamente intercambiável com um array NumPy unidimensional. A diferença essencial é a presença do índice: enquanto o array NumPy possui um índice inteiro implícito definido para acessar os valores, a Serie Pandas possui um índice explicitamente definido associado aos valores.\n",
    "\n",
    "Esta definição explícita de índice fornece recursos adicionais ao objeto Series. Por exemplo, o índice não precisa ser um número inteiro, podendo consistir em valores de qualquer tipo desejado. Por exemplo, se quisermos, podemos usar Strings como um índice."
   ]
  },
  {
   "cell_type": "code",
   "execution_count": null,
   "metadata": {
    "id": "mgVI1CjoWA9E"
   },
   "outputs": [],
   "source": [
    "# Exemplo: criação de um objeto pandas do tipo Series - Pandas\n",
    "# - com especificação dos seus índices\n",
    "\n",
    "obj_Serie2 = Series([4, 7, -5, 3], index=['d', 'b', 'a', 'c'])\n",
    "obj_Serie2"
   ]
  },
  {
   "cell_type": "code",
   "execution_count": null,
   "metadata": {
    "id": "y1Pkk9uOWA9O"
   },
   "outputs": [],
   "source": [
    "# Exemplo: Acessando elementos de Series via especificação do índice ou conjunto de índices\n",
    "print(\"O acesso a elemento de Series é similar ao de arrays NumPy\")\n",
    "print(obj_Serie2['a'])\n",
    "print(obj_Serie2[2])\n",
    "print(obj_Serie2[-2])\n",
    "print(obj_Serie2[['b', 'd', 'a']])"
   ]
  },
  {
   "cell_type": "code",
   "execution_count": null,
   "metadata": {
    "id": "7sJpH8leYqw2"
   },
   "outputs": [],
   "source": [
    "obj_Serie2"
   ]
  },
  {
   "cell_type": "code",
   "execution_count": null,
   "metadata": {
    "id": "yJVbkIGGWA9d"
   },
   "outputs": [],
   "source": [
    "# Exemplo: filtros nos índices em Pandas são similares aos do Arrays Numpy\n",
    "\n",
    "obj_Serie2 > 0"
   ]
  },
  {
   "cell_type": "code",
   "execution_count": null,
   "metadata": {
    "id": "jq95KuJkWA9p"
   },
   "outputs": [],
   "source": [
    "# Exemplo: filtros nos índices em Pandas são similares aos Arrays Numpy\n",
    "\n",
    "obj_Serie2[obj_Serie2 > 0]"
   ]
  },
  {
   "cell_type": "code",
   "execution_count": null,
   "metadata": {
    "id": "DLG27sIVWA91"
   },
   "outputs": [],
   "source": [
    "# Exemplo: filtro nos índices de Arrays Numpy\n",
    "\n",
    "import numpy as np\n",
    "A = np.array([1, 4, 2, 5, 3])\n",
    "A[A>2]"
   ]
  },
  {
   "cell_type": "code",
   "execution_count": null,
   "metadata": {
    "id": "6j7tSu8XWA98"
   },
   "outputs": [],
   "source": [
    "# Exemplo: As operações preservam os índices dos objetos Series - Pandas\n",
    "print(obj_Serie2*3)\n",
    "print()\n",
    "print(obj_Serie2**2)"
   ]
  },
  {
   "cell_type": "code",
   "execution_count": null,
   "metadata": {
    "id": "p7NYwFkPZI_V"
   },
   "outputs": [],
   "source": [
    "obj_Serie2**2"
   ]
  },
  {
   "cell_type": "markdown",
   "metadata": {
    "id": "Ya_o3___WA-J"
   },
   "source": [
    "### Observação:\n",
    "Também é  possível passar dados do tipo dicionário (dictionaries) como parâmetros para Series Pandas, como no exemplo a seguir.\n"
   ]
  },
  {
   "cell_type": "code",
   "execution_count": null,
   "metadata": {
    "id": "jTdej3TdWA-K"
   },
   "outputs": [],
   "source": [
    "# Exemplo de Series - Pandas usando tipos dictionery\n",
    "\n",
    "idadeD = {'Maria': 24, 'Pedro': 22, 'Mariana': 21, 'Joao': 20}\n",
    "idadeSerie = pd.Series(idadeD)\n",
    "idadeSerie"
   ]
  },
  {
   "cell_type": "code",
   "execution_count": null,
   "metadata": {
    "id": "CPZy2SqtWA-P"
   },
   "outputs": [],
   "source": [
    "# Exemplo de Series - Pandas usando tipos dictionary\n",
    "\n",
    "idadeLista = ['Alice', 'Pedro', 'Mariana', 'Joao']\n",
    "idadeSerie = pd.Series(idadeD, index=idadeLista)\n",
    "idadeSerie"
   ]
  },
  {
   "cell_type": "code",
   "execution_count": null,
   "metadata": {
    "id": "vZyP5szbWA-W"
   },
   "outputs": [],
   "source": [
    "print(\"Por que o valor do índice Alice é NaN?, O que significa isto?\")\n"
   ]
  },
  {
   "cell_type": "code",
   "execution_count": null,
   "metadata": {
    "id": "2DHybIMsWA-p"
   },
   "outputs": [],
   "source": [
    "# Execute este comando e verifique o resultado\n",
    "\n",
    "idadeSerie.isnull()"
   ]
  },
  {
   "cell_type": "code",
   "execution_count": null,
   "metadata": {
    "id": "4952M1rSWA_A"
   },
   "outputs": [],
   "source": [
    "# Execute este comando e verifique o resultado\n",
    "\n",
    "idadeSerie.notnull()"
   ]
  },
  {
   "cell_type": "markdown",
   "metadata": {
    "id": "_fMXQF75W18Z"
   },
   "source": [
    "### Exercício:\n",
    "Explique o funciomanto dos métodos .isnull() e .notnull(). Para que servem esses métodos?"
   ]
  },
  {
   "cell_type": "markdown",
   "metadata": {
    "id": "1hjwnVzWWA_M"
   },
   "source": [
    "### Dados não declarados - Missing Data\n",
    "- indicar a falta de dados de diferentes maneiras.\n",
    "- NaN (Not a Number).\n",
    "- None.\n",
    "\n",
    "Há diversos métodos em Pandas para tratar Missing Data.\n",
    "- técnicas de eliminação\n",
    "- técnicas de preenchimento"
   ]
  },
  {
   "cell_type": "code",
   "execution_count": null,
   "metadata": {
    "id": "LsVq1fn7WA_O"
   },
   "outputs": [],
   "source": [
    "# Exemplo: Eliminando missing data\n",
    "\n",
    "idadeSerie[idadeSerie.notnull()]"
   ]
  },
  {
   "cell_type": "code",
   "execution_count": null,
   "metadata": {
    "id": "_OA4qTD7WA_T"
   },
   "outputs": [],
   "source": [
    "# Exemplo: Eliminando missing data\n",
    "\n",
    "idadeSerie"
   ]
  },
  {
   "cell_type": "code",
   "execution_count": null,
   "metadata": {
    "id": "OHytYSddWA_d"
   },
   "outputs": [],
   "source": [
    "# Exemplo: Eliminando missing data\n",
    "print( \"O que faz o método .dropna()?\\n\\n\")\n",
    "\n",
    "idadeSerie.dropna()"
   ]
  },
  {
   "cell_type": "code",
   "execution_count": null,
   "metadata": {
    "id": "VM5kmx6QWA_t"
   },
   "outputs": [],
   "source": [
    "# Exemplo: Preenchimento de missing data\n",
    "print( \"O que faz o método .fillna()?\\n\\n\")\n",
    "idadeSerie.fillna(-1)"
   ]
  },
  {
   "cell_type": "code",
   "execution_count": null,
   "metadata": {
    "id": "lqtZXNb_WA_0"
   },
   "outputs": [],
   "source": [
    "# Operações sobre Series - Pandas\n",
    "import pandas as pd\n",
    "import numpy as np\n",
    "\n",
    "turmaLista1 = ['Alice', 'Pedro', 'Mariana', 'Joao']\n",
    "turmaLista2 = ['Maria', 'Pedro', 'Mariana', 'Joao']\n",
    "\n",
    "turmaSerie1 = pd.Series([2,1,0.5,1], index=turmaLista1)\n",
    "turmaSerie2 = pd.Series([2,2,2,2], index=turmaLista2)\n",
    "\n",
    "turmaSerie1 + turmaSerie2  # o que ocorre quando se soma duas Séries?"
   ]
  },
  {
   "cell_type": "code",
   "execution_count": null,
   "metadata": {
    "id": "qieq4qRDWA_2"
   },
   "outputs": [],
   "source": [
    "# Exemplo - Rotulando índices e nomes de Series - Pandas\n",
    "\n",
    "turmaSerie1.name = 'Turma de Ciência de Dados'\n",
    "turmaSerie1.index.name = 'Alunos'\n",
    "turmaSerie1"
   ]
  },
  {
   "cell_type": "markdown",
   "metadata": {
    "id": "nt3mT2LDWA_6"
   },
   "source": [
    "### Observação:\n",
    "Series Pandas podem ser vistas como o equivalente ao tipo básico dictionaries. Porém, assim como operações em arrays NumPy são mais eficientes que em Listas, operar em Series é bem mais eficiente que operarar sobre variáveis do tipo Dictonary."
   ]
  },
  {
   "cell_type": "code",
   "execution_count": null,
   "metadata": {
    "id": "Nxre3rO-WA_-"
   },
   "outputs": [],
   "source": [
    "? Series"
   ]
  },
  {
   "cell_type": "code",
   "execution_count": null,
   "metadata": {
    "id": "_zJXEzXGWBAJ"
   },
   "outputs": [],
   "source": [
    "# Exemplo: População de alguns estados dos Estados Unidos\n",
    "# Utilizando-se tipo dicionário\n",
    "\n",
    "# Crianado uma variável do tipo dicionário - Alguns Estados com respectivas populações\n",
    "pop_dict = {'California': 38332521,\n",
    "'Texas': 26448193,\n",
    "'New York': 19651127,\n",
    "'Florida': 19552860,\n",
    "'Illinois': 12882135}"
   ]
  },
  {
   "cell_type": "code",
   "execution_count": null,
   "metadata": {
    "id": "E1LYJ7-uWBAP"
   },
   "outputs": [],
   "source": [
    "# Exemplo: Área de alguns estados dos Estados Unidos\n",
    "area_dict = {'California': 423967, 'Texas': 695662, 'New York': 141297,\n",
    "'Florida': 170312, 'Illinois': 149995}"
   ]
  },
  {
   "cell_type": "code",
   "execution_count": null,
   "metadata": {
    "id": "jQYa_aryWBAZ"
   },
   "outputs": [],
   "source": [
    "dict.values(pop_dict)  # método de classe dicionário"
   ]
  },
  {
   "cell_type": "code",
   "execution_count": null,
   "metadata": {
    "id": "ABJppnmZicpY"
   },
   "outputs": [],
   "source": [
    "pop_dict.values()  # método de objeto dicionário"
   ]
  },
  {
   "cell_type": "code",
   "execution_count": null,
   "metadata": {
    "id": "goPOzUm3WBAf"
   },
   "outputs": [],
   "source": [
    "dict.keys(pop_dict)"
   ]
  },
  {
   "cell_type": "code",
   "execution_count": null,
   "metadata": {
    "id": "HFlSOUeGip4m"
   },
   "outputs": [],
   "source": [
    "dict.items(pop_dict)"
   ]
  },
  {
   "cell_type": "code",
   "execution_count": null,
   "metadata": {
    "id": "iTKCx8-ei2Zl"
   },
   "outputs": [],
   "source": [
    "pop_dict.keys()  # usando o método do objeto"
   ]
  },
  {
   "cell_type": "code",
   "execution_count": null,
   "metadata": {
    "id": "pesIhi5KWBAn"
   },
   "outputs": [],
   "source": [
    "#Exercício: Transformando variáveis de Dictonary para Series Panda\n",
    "#           - Transforme a variável dicionario 'pop_dict' em uma Serie-Pandas\n",
    "import pandas as pd\n",
    "\n",
    "\n",
    "\n",
    "pop_dict = pd.Series(pop_dict)\n",
    "#           - Transforme a variável dicionario 'area_dict' em uma Serie-Pandas\n",
    "area_dict = pd.Series(area_dict)\n",
    "#           - Obtenha os estados com mais de 20 milhões de habitantes.\n",
    "pop_dict[pop_dict.values > 20000000]\n",
    "#           - Obtenha o número de habitantes da California\n",
    "pop_dict[\"California\"]\n",
    "#           - Obtenha o estado com mais habitantes\n",
    "pop_dict[pop_dict == pop_dict.max()]\n",
    "#           - Obtenha o estado com menos habitantes\n",
    "pop_dict[pop_dict == pop_dict.min()]\n",
    "#           - Obtenha a lista dos estados com área entre 400.000 e 500.000\n",
    "area_dict[(area_dict > 400000) & (area_dict < 500000)]\n",
    "#           - A densidade (número de habitantes por área) desses estados\n",
    "\n",
    "print(\"Densidade populacional de 5 cidades dos EUA\\n\")\n",
    "pop_den = pop_dict/area_dict\n",
    "pop_den\n",
    "\n"
   ]
  },
  {
   "cell_type": "code",
   "execution_count": null,
   "metadata": {
    "id": "ySxnY1bEjurI"
   },
   "outputs": [],
   "source": [
    "# Exercíco - substitua o nome no dicionário por Densidade\n"
   ]
  },
  {
   "cell_type": "code",
   "execution_count": null,
   "metadata": {
    "id": "bYOjtoxaYTbL"
   },
   "outputs": [],
   "source": [
    "type(pop_dict)"
   ]
  },
  {
   "cell_type": "markdown",
   "metadata": {
    "id": "z7982z3WWBAt"
   },
   "source": [
    "### Acesso a índices em objetos Pandas\n",
    "Há várias formas de se acessar índices nos objetos Pandas:\n",
    "- indicação de índice específico. --> dado[3]\n",
    "- indicação de intervalo de índices. --> dado[1:3]. Segue o padrão de Lista.\n",
    "- métodos .loc() e .iloc()"
   ]
  },
  {
   "cell_type": "code",
   "execution_count": null,
   "metadata": {
    "id": "tJep4F9qWBAv"
   },
   "outputs": [],
   "source": [
    "# Exemplo de indicação de índice em Pandas\n",
    "\n",
    "data = pd.Series(['a', 'b', 'c', 'd'], index=[1,3,5,7])\n",
    "data"
   ]
  },
  {
   "cell_type": "code",
   "execution_count": null,
   "metadata": {
    "id": "JEiwCcjgWBA5"
   },
   "outputs": [],
   "source": [
    "# Exemplo de indicação específica de índice em Pandas\n",
    "data[1]\n",
    "#data[0]"
   ]
  },
  {
   "cell_type": "code",
   "execution_count": null,
   "metadata": {
    "id": "Ez3aekcIWBBD"
   },
   "outputs": [],
   "source": [
    "# Exemplo de indicação de intervalo de índice em Pandas\n",
    "data[1:3]\n",
    "#data[0:2]"
   ]
  },
  {
   "cell_type": "code",
   "execution_count": null,
   "metadata": {
    "id": "h2SW81kdWBBJ"
   },
   "outputs": [],
   "source": [
    "# Exemplo de indicação de índice em Pandas usando o método .loc()\n",
    "print(data.loc[1])\n",
    "print()\n",
    "print(data.loc[1:3])"
   ]
  },
  {
   "cell_type": "code",
   "execution_count": null,
   "metadata": {
    "id": "wiDaNTrWWBBM"
   },
   "outputs": [],
   "source": [
    "# Exemplo de indicação de índice em Pandas usando o método .iloc()\n",
    "print(data.iloc[1])\n",
    "print()\n",
    "print(data.iloc[1:3])"
   ]
  },
  {
   "cell_type": "markdown",
   "metadata": {
    "id": "TdjbtVxraSzH"
   },
   "source": [
    "### Exercício:\n",
    "Qual é a diferença dos métodos .loc() e .iloc()? Explique e faça um exemplo demonstrando a direfença."
   ]
  },
  {
   "cell_type": "code",
   "execution_count": null,
   "metadata": {
    "id": "hSTUJiqdVtIf"
   },
   "outputs": [],
   "source": [
    "# Exercício\n"
   ]
  },
  {
   "cell_type": "markdown",
   "metadata": {
    "id": "114Y1eUsWBBY"
   },
   "source": [
    "## 2. Objeto do tipo DataFrame em Pandas"
   ]
  },
  {
   "cell_type": "markdown",
   "metadata": {
    "id": "h-iszyZ8WBBb"
   },
   "source": [
    "Se uma Serie-Pandas é um análogo de um array NumPy unidimensional com índices explícitos e flexíveis, então um DataFrame é um análogo de array NumPy bidimensional com índices de linha e de colunas flexíveis.\n",
    "\n",
    "Assim, DataFrame Pandas equivale a uma Matriz com índices explícitos, porém, diferentemenete dos arrays NumPy, os elementos em colunas diferentes podem ser de tipos diferentes.\n",
    "\n",
    "DataFrames podem ser vistos como uma sequência de objetos Series-Pandas alinhados por índices."
   ]
  },
  {
   "cell_type": "code",
   "execution_count": null,
   "metadata": {
    "id": "B8tSEkwMWBBg"
   },
   "outputs": [],
   "source": [
    "# Exemplo - Transformação de dict em Serie-Pandas\n",
    "populacao = pd.Series(pop_dict)\n",
    "populacao"
   ]
  },
  {
   "cell_type": "code",
   "execution_count": null,
   "metadata": {
    "id": "1unLPNAlWBBk"
   },
   "outputs": [],
   "source": [
    "# Exemplo - Transformação de dict em Serie-Pandas\n",
    "area = pd.Series(area_dict)\n",
    "area"
   ]
  },
  {
   "cell_type": "code",
   "execution_count": null,
   "metadata": {
    "id": "w5seGeB0WBBr"
   },
   "outputs": [],
   "source": [
    "# Exemplo - Criação de um DataFrame Pandas a aprtir de dicionários\n",
    "\n",
    "estados = pd.DataFrame({'população': populacao,'área': area})\n",
    "estados"
   ]
  },
  {
   "cell_type": "code",
   "execution_count": null,
   "metadata": {
    "id": "xYLsynxIWBBy"
   },
   "outputs": [],
   "source": [
    "type(estados)"
   ]
  },
  {
   "cell_type": "code",
   "execution_count": null,
   "metadata": {
    "id": "upkZTaU2WBB3"
   },
   "outputs": [],
   "source": [
    "estados.index"
   ]
  },
  {
   "cell_type": "code",
   "execution_count": null,
   "metadata": {
    "id": "VPaViqGJWBB8"
   },
   "outputs": [],
   "source": [
    "estados.columns"
   ]
  },
  {
   "cell_type": "markdown",
   "metadata": {
    "id": "iHu0fgsSWBCG"
   },
   "source": [
    "### Observação:\n",
    "Da mesma forma como Series, também podemos pensar em um DataFrame como uma especialização de um dicionário. Enquanto um dicionário mapeia uma chave para um valor, um DataFrame mapeia um nome de coluna para uma série de dados de coluna. Por exemplo, a apartir do atributo 'área' retorna-se o objeto Series que contém as áreas que vimos anteriormente:"
   ]
  },
  {
   "cell_type": "code",
   "execution_count": null,
   "metadata": {
    "id": "SSZVH0kMWBCG"
   },
   "outputs": [],
   "source": [
    "estados['área']  # Reorna somente a coluna (Série) cujo o nome é 'área'"
   ]
  },
  {
   "cell_type": "code",
   "execution_count": null,
   "metadata": {
    "id": "Plof4U4imENG"
   },
   "outputs": [],
   "source": [
    "estados"
   ]
  },
  {
   "cell_type": "code",
   "execution_count": null,
   "metadata": {
    "id": "SfRYecGUmvqi"
   },
   "outputs": [],
   "source": [
    "estados.keys()"
   ]
  },
  {
   "cell_type": "code",
   "execution_count": null,
   "metadata": {
    "id": "SkPEVnxyzXYv"
   },
   "outputs": [],
   "source": [
    "estados.values"
   ]
  },
  {
   "cell_type": "code",
   "execution_count": null,
   "metadata": {
    "id": "ImCaxwz5zeo6"
   },
   "outputs": [],
   "source": [
    "estados.columns"
   ]
  },
  {
   "cell_type": "code",
   "execution_count": null,
   "metadata": {
    "id": "sjlv-5b6m8av"
   },
   "outputs": [],
   "source": [
    "estados.iloc[0]"
   ]
  },
  {
   "cell_type": "code",
   "execution_count": null,
   "metadata": {
    "id": "Ai1vW9Xhnl1N"
   },
   "outputs": [],
   "source": [
    "estados.index\n"
   ]
  },
  {
   "cell_type": "code",
   "execution_count": null,
   "metadata": {
    "id": "R9ZrZlxDyC2l"
   },
   "outputs": [],
   "source": [
    "estados.index =='Texas'"
   ]
  },
  {
   "cell_type": "code",
   "execution_count": null,
   "metadata": {
    "id": "4D5m0oeEoiI6"
   },
   "outputs": [],
   "source": [
    "#Exercício - obter a população e área do Texas\n",
    "estados[estados.index =='Texas']"
   ]
  },
  {
   "cell_type": "markdown",
   "metadata": {
    "id": "HsCXZ6GHWBCN"
   },
   "source": [
    "### 2.1 Criação de DataFrames Pandas\n",
    "DataFrame Pandas podem ser criados de diversas formas.\n",
    "- A partir de objetos Series\n",
    "- A partir de Listas de Dicionários\n",
    "- A partir de Dicionários de objetos Series\n",
    "- A partir de arrays NumPy bidimensionais\n",
    "- A partir de array NumPy estruturado"
   ]
  },
  {
   "cell_type": "code",
   "execution_count": null,
   "metadata": {
    "id": "FsgriOROWBCR"
   },
   "outputs": [],
   "source": [
    "# Exemplo: Criação de DataFrame Pandas a partir de objetos Series\n",
    "pd.DataFrame(populacao, columns=['população'])"
   ]
  },
  {
   "cell_type": "code",
   "execution_count": null,
   "metadata": {
    "id": "ShwYfYsRWBCW"
   },
   "outputs": [],
   "source": [
    "# Exemplo: Criação de DataFrame Pandas a partir de Lista de Dicionário\n",
    "data = [{'a': i, 'b': 2 * i} for i in range(3)]\n",
    "pd.DataFrame(data)\n",
    "#data"
   ]
  },
  {
   "cell_type": "code",
   "execution_count": null,
   "metadata": {
    "id": "JYb5FGn1WBCZ"
   },
   "outputs": [],
   "source": [
    "# Exemplo: Criação de DataFrame Pandas a partir de Lista de Dicionário\n",
    "# Data Missing (Dados perdidos) - similar ao objeto Serie\n",
    "\n",
    "pd.DataFrame([{'a': 1, 'b': 2}, {'b': 3, 'c': 4}])"
   ]
  },
  {
   "cell_type": "code",
   "execution_count": null,
   "metadata": {
    "id": "OIl2vIY1WBCe"
   },
   "outputs": [],
   "source": [
    "# Exercício: Troque os índices do DataFrame acima\n",
    "#            para linha1 e linha2, respecitvamente\n",
    "\n",
    "pd.DataFrame([{'a': 1, 'b': 2}, {'b': 3, 'c': 4}], index=['linha1', 'linha2'])"
   ]
  },
  {
   "cell_type": "markdown",
   "metadata": {
    "id": "8Gbtbf94WBCh"
   },
   "source": [
    "#### 2.2 Tratando Missing Data em DataFrame\n",
    "De forma similar a Series, podemos tratar missing data em DataFrame\n",
    "- técnicas de eliminação\n",
    "    - df.dropna(parametros)\n",
    "- técnicas de preenchimento\n",
    "    - df.fillna(parametros)"
   ]
  },
  {
   "cell_type": "code",
   "execution_count": null,
   "metadata": {
    "id": "fCD1zcIYWBCj"
   },
   "outputs": [],
   "source": [
    "# Exemplo: Eliminando missing data em DataFrames\n",
    "# Eliminar as linhas com NaN\n",
    "# Eliminar as colunas com NaN\n",
    "# Eliminar as linhas e colunas com NaN\n",
    "import numpy as np\n",
    "df = pd.DataFrame([[1, np.nan, 2],\n",
    "[2, 3, 5],\n",
    "[np.nan, 4, 6]])\n",
    "print(\"df com NaN \\n\", df)\n",
    "\n",
    "print(\"\\n df sem NaN - com eliminação de linhas \\n\", df.dropna())\n",
    "\n",
    "print(\"\\n df sem NaN - com eliminação de colunas \\n\", df.dropna(axis='columns'))\n"
   ]
  },
  {
   "cell_type": "code",
   "execution_count": null,
   "metadata": {
    "id": "232j_TUuWBCl"
   },
   "outputs": [],
   "source": [
    "# Exemplo: Eliminando missing data em DataFrames\n",
    "# Eliminar as linhas com NaN\n",
    "# Eliminar as colunas com NaN\n",
    "# Eliminar as linhas e colunas com NaN\n",
    "\n",
    "dataF = DataFrame([[1., 6.5, 3.], [1., None, None], [None, None, None], [None, 6.5, 3.]])\n",
    "dataF"
   ]
  },
  {
   "cell_type": "code",
   "execution_count": null,
   "metadata": {
    "id": "WfR1Ro5FWBCn"
   },
   "outputs": [],
   "source": [
    "\n",
    "dataF.dropna(how='all')"
   ]
  },
  {
   "cell_type": "code",
   "execution_count": null,
   "metadata": {
    "id": "9tu3bQ6sWBCz"
   },
   "outputs": [],
   "source": [
    "# Exemplo: Preenchimento de missing data em DataFrames\n",
    "df = DataFrame(np.random.randn(7, 3))\n",
    "df"
   ]
  },
  {
   "cell_type": "code",
   "execution_count": null,
   "metadata": {
    "id": "XoaGIoXCWBC6"
   },
   "outputs": [],
   "source": [
    "df.iloc[:4, 1] = None; df.iloc[:2, 2] = None\n",
    "df"
   ]
  },
  {
   "cell_type": "code",
   "execution_count": null,
   "metadata": {
    "id": "a0rKsuK6WBC9"
   },
   "outputs": [],
   "source": [
    "# Exemplo: Preenchimento de missing data em DataFrames\n",
    "#          com valor ZERO\n",
    "\n",
    "df.fillna(0)"
   ]
  },
  {
   "cell_type": "code",
   "execution_count": null,
   "metadata": {
    "id": "mDKZp7A0WBC_"
   },
   "outputs": [],
   "source": [
    "df.iloc[3:4,0:1] = None\n",
    "df\n"
   ]
  },
  {
   "cell_type": "code",
   "execution_count": null,
   "metadata": {
    "id": "tlZdB6lXWBDC"
   },
   "outputs": [],
   "source": [
    "# Exemplo: Preenchimento de missing data em DataFrames\n",
    "df.fillna(method='ffill')"
   ]
  },
  {
   "cell_type": "code",
   "execution_count": null,
   "metadata": {
    "id": "A8ftof5IWBDH"
   },
   "outputs": [],
   "source": [
    "# Exemplo: Preenchimento de missing data em DataFrames\n",
    "# Chamendo .fillna() com um tipo 'dict',\n",
    "# pode-se usar um valor diferente de preenchimento para cada coluna\n",
    "\n",
    "df.fillna({1: 0.5, 2: -1})"
   ]
  },
  {
   "cell_type": "code",
   "execution_count": null,
   "metadata": {
    "id": "Xu30NwKGWBDJ"
   },
   "outputs": [],
   "source": [
    "# Exemplo: Criação de DataFrame Pandas\n",
    "#          a partir Dicionários de objetos Series\n",
    "\n",
    "pd.DataFrame({'população1': populacao,'área1': area})\n"
   ]
  },
  {
   "cell_type": "code",
   "execution_count": null,
   "metadata": {
    "id": "MauMnQblWBDS"
   },
   "outputs": [],
   "source": [
    "# Exemplo: Criação de DataFrame Pandas\n",
    "#          a partir de arrays NumPy bidimensionais\n",
    "\n",
    "import numpy as np\n",
    "\n",
    "pd.DataFrame(np.random.rand(3, 2),\n",
    "             columns=['coluna 1', 'coluna 2'],\n",
    "             index=['linha 1', 'linha 2', 'linha 3'])"
   ]
  },
  {
   "cell_type": "code",
   "execution_count": null,
   "metadata": {
    "id": "8qqK_i2GWBDW"
   },
   "outputs": [],
   "source": [
    "# Exemplo: Criação de DataFrame Pandas\n",
    "#          a partir de array NumPy estruturado\n",
    "Resultado = np.zeros(3, dtype=[('A', 'i8'), ('B', 'f8')])\n",
    "Resultado"
   ]
  },
  {
   "cell_type": "code",
   "execution_count": null,
   "metadata": {
    "id": "Uxn6lMeAWBDj"
   },
   "outputs": [],
   "source": [
    "pd.DataFrame(Resultado)"
   ]
  },
  {
   "cell_type": "markdown",
   "metadata": {
    "id": "52rnow9pWBDw"
   },
   "source": [
    "### Exemplos de Acesso a Elementos de DataFrames\n",
    "A seguir, são apresentados alguns exemplos de como acessar DataFrames e elementos de DataFrames"
   ]
  },
  {
   "cell_type": "code",
   "execution_count": null,
   "metadata": {
    "id": "FdSQzV7WWBDy"
   },
   "outputs": [],
   "source": [
    "estados"
   ]
  },
  {
   "cell_type": "code",
   "execution_count": null,
   "metadata": {
    "id": "vP59c-NWWBD1"
   },
   "outputs": [],
   "source": [
    "estados['área']"
   ]
  },
  {
   "cell_type": "code",
   "execution_count": null,
   "metadata": {
    "id": "PXCyJipnWBD3"
   },
   "outputs": [],
   "source": [
    "estados[['área','população']]"
   ]
  },
  {
   "cell_type": "code",
   "execution_count": null,
   "metadata": {
    "id": "SuGBASeAWBD7"
   },
   "outputs": [],
   "source": [
    "estados.área"
   ]
  },
  {
   "cell_type": "markdown",
   "metadata": {
    "id": "Yd3xPOjyWBD_"
   },
   "source": [
    "### 2.3 - Incluir e modificar colunas no DataFrame Pandas\n",
    "- Uma das formas de se fazer isto pode ser usando uma sintaxe similar à sintaxe de dicionários com objetos Series Pandas.\n"
   ]
  },
  {
   "cell_type": "code",
   "execution_count": null,
   "metadata": {
    "id": "MCar90GQWBD_"
   },
   "outputs": [],
   "source": [
    "# Exemplo - Inclusão de uma nova coluna no DataFrame Pandas\n",
    "\n",
    "estados['densidade'] = estados['população'] / estados['área']\n",
    "estados"
   ]
  },
  {
   "cell_type": "markdown",
   "metadata": {
    "id": "5VN84uToWBEJ"
   },
   "source": [
    "### Observação:\n",
    "Como DataFrames podem ser conciderados como uma especetipo de arrays bidimensionais, então podemos utilizar operações similares de arrays bidimencionais a eles."
   ]
  },
  {
   "cell_type": "code",
   "execution_count": null,
   "metadata": {
    "id": "m9sPYXhvWBEP"
   },
   "outputs": [],
   "source": [
    "# Exemplo - Como inverter a representação do DataFrame Pandas - Similar a uma matriz transposta\n",
    "estados.T"
   ]
  },
  {
   "cell_type": "code",
   "execution_count": null,
   "metadata": {
    "id": "-9ypObs3WBEU"
   },
   "outputs": [],
   "source": [
    "# Exemplo - Obtendo índicers de DataFrames Pandas\n",
    "estados.values"
   ]
  },
  {
   "cell_type": "code",
   "execution_count": null,
   "metadata": {
    "id": "PddhZE1dWBEX"
   },
   "outputs": [],
   "source": [
    "# Exemplo - Obtendo índices de DataFrames Pandas\n",
    "estados.values[0]"
   ]
  },
  {
   "cell_type": "code",
   "execution_count": null,
   "metadata": {
    "id": "X8qov6NOWBEa"
   },
   "outputs": [],
   "source": [
    "# Exemplo - Obtendo índices de DataFrames Pandas\n",
    "estados.values[0][:]"
   ]
  },
  {
   "cell_type": "code",
   "execution_count": null,
   "metadata": {
    "id": "O9FznBERWBEd"
   },
   "outputs": [],
   "source": [
    "print(\"Explique o funcionamento desse comando. \\\\n\\n\")\n",
    "estados[estados.densidade > 100]"
   ]
  },
  {
   "cell_type": "code",
   "execution_count": null,
   "metadata": {
    "id": "znbKz7FkWBEg"
   },
   "outputs": [],
   "source": [
    "print(\"Explique o funcionamento desse comando. \\\\n\\n\")\n",
    "estados.densidade > 100"
   ]
  },
  {
   "cell_type": "code",
   "execution_count": null,
   "metadata": {
    "id": "hKAQfIi2WBEo"
   },
   "outputs": [],
   "source": [
    "print(\"Explique o funcionamento desse comando. \\\\n\\n\")\n",
    "estados[estados.densidade > 100].densidade"
   ]
  },
  {
   "cell_type": "code",
   "execution_count": null,
   "metadata": {
    "id": "i4ypMrpiWBEw"
   },
   "outputs": [],
   "source": [
    "print(\"Lista das populações e densidades das Cidades com densidade maior de 100. \\\\n\\n\")\n",
    "estados[estados.densidade > 100][['população', 'densidade']]"
   ]
  },
  {
   "cell_type": "code",
   "execution_count": null,
   "metadata": {
    "collapsed": true,
    "id": "0vdoBXLCWBEz"
   },
   "outputs": [],
   "source": [
    "# Exercício: Liste o atributo 'densidade'\n",
    "#           dos estados da Florida e Illinois\n",
    "?????"
   ]
  },
  {
   "cell_type": "code",
   "execution_count": null,
   "metadata": {
    "id": "Qg7glfSpWBE2"
   },
   "outputs": [],
   "source": [
    "# Exemplo de listagem de sub-DataFrame em Pandas\n",
    "# O método .iloc() pemite acesso por numeração - localicação\n",
    "\n",
    "estados.iloc[:3, :2]\n",
    "\n",
    "#estados[:3,:2]"
   ]
  },
  {
   "cell_type": "code",
   "execution_count": null,
   "metadata": {
    "id": "cHrx9hHJWBE4"
   },
   "outputs": [],
   "source": [
    "# Exemplo de listagem de sub-DataFrame em Pandas\n",
    "# O método .loc() permite acesso por labels\n",
    "\n",
    "estados.loc[:'Illinois', :'população']"
   ]
  },
  {
   "cell_type": "code",
   "execution_count": null,
   "metadata": {
    "id": "WBeL_sbOWBFP"
   },
   "outputs": [],
   "source": [
    "# Exemplo de listagem de sub-DataFrame em Pandas\n",
    "# Uso do estilo NumPy para acessar sub Arrays\n",
    "# Formato:\n",
    "# dataFrame.loc[LINHAS, COLUNAS]\n",
    "\n",
    "estados.loc[estados.densidade > 100, ['população', 'densidade']]"
   ]
  },
  {
   "cell_type": "code",
   "execution_count": null,
   "metadata": {
    "collapsed": true,
    "id": "V8e4fis1WBFa"
   },
   "outputs": [],
   "source": [
    "# Exercício:\n",
    "# Obenha apenas os Estados com população acima de 20 milhões.\n",
    "# Exiba as colunas 'população'e 'densidade'\n",
    "\n",
    "????\n"
   ]
  },
  {
   "cell_type": "markdown",
   "metadata": {
    "id": "flMyRrnGWBFh"
   },
   "source": [
    "### Alguns Métodos Úteis:\n",
    "    - pd.head(x)  --> lista as x primeiras linhas do DataFrame\n",
    "    - pd.tail(x)  --> lista as x últimas linhas do DataFrame\n",
    "    - pd.info()   --> resume o conteúdo do DataFrame"
   ]
  },
  {
   "cell_type": "code",
   "execution_count": null,
   "metadata": {
    "id": "T-TwRNHpWBFk"
   },
   "outputs": [],
   "source": [
    "# Exemplo de uso do método pd.head()\n",
    "estados.head(2)\n",
    "#estados.head()"
   ]
  },
  {
   "cell_type": "code",
   "execution_count": null,
   "metadata": {
    "id": "sUQ5UJjqWBFo"
   },
   "outputs": [],
   "source": [
    "# Exemplo de uso do método pd.tail()\n",
    "estados.tail(2)\n",
    "#estados.tail()"
   ]
  },
  {
   "cell_type": "code",
   "execution_count": null,
   "metadata": {
    "id": "6muotZjTWBFv"
   },
   "outputs": [],
   "source": [
    "# Exemplo de uso do método pd.info()\n",
    "estados.info()"
   ]
  },
  {
   "cell_type": "markdown",
   "metadata": {
    "id": "K3-FoLvlWBF3"
   },
   "source": [
    "### Pergunta:\n",
    "Como se pode alterar os valores de elementos de DataFrames?\n"
   ]
  },
  {
   "cell_type": "code",
   "execution_count": null,
   "metadata": {
    "collapsed": true,
    "id": "xH6uhHkNWBF3"
   },
   "outputs": [],
   "source": [
    "# Verifique uma forma de alterar valores de elementos do DataFrame estados\n",
    "estados.loc['Texas', 'população'] = 40000000\n",
    "estados"
   ]
  },
  {
   "cell_type": "markdown",
   "metadata": {
    "id": "hxkNV9r9WBF7"
   },
   "source": [
    "### Observação:\n",
    "Pandas foi desenvolvido sobre o NumPy e manteve a compatibilidade das operações NumPy.\n",
    "- dados Pandas (Series, DataFrame) aceitam as operações NumPy"
   ]
  },
  {
   "cell_type": "code",
   "execution_count": null,
   "metadata": {
    "id": "m-vU-T8DWBF7"
   },
   "outputs": [],
   "source": [
    "# Exemplo de operação NumPy sobre dados Pandas\n",
    "# Definindo o objeto ser - Tipo Series Pandas\n",
    "import pandas as pd\n",
    "import numpy as np\n",
    "\n",
    "rng = np.random.RandomState(42)\n",
    "ser = pd.Series(rng.randint(0, 10, 4))\n",
    "ser"
   ]
  },
  {
   "cell_type": "code",
   "execution_count": null,
   "metadata": {
    "id": "WmXnyU7yWBF-"
   },
   "outputs": [],
   "source": [
    "# Exemplo de operação NumPy sobre dados Pandas\n",
    "# Operação exponencial sobre um objeto Series Pandas\n",
    "\n",
    "np.exp(ser)"
   ]
  },
  {
   "cell_type": "code",
   "execution_count": null,
   "metadata": {
    "id": "x9VHgubKWBF_"
   },
   "outputs": [],
   "source": [
    "# Exemplo de operação NumPy sobre dados Pandas\n",
    "# Definindo o objeto df - Tipo DataFrame Pandas\n",
    "\n",
    "df = pd.DataFrame(rng.randint(0, 10, (3, 4)),\n",
    "columns=['A', 'B', 'C', 'D'])\n",
    "df"
   ]
  },
  {
   "cell_type": "code",
   "execution_count": null,
   "metadata": {
    "id": "w98tZ5-qWBGC"
   },
   "outputs": [],
   "source": [
    "# Exemplo de operação NumPy sobre dados Pandas\n",
    "# Operação seno sobre um objeto DataFrame Pandas\n",
    "\n",
    "np.sin(df * np.pi / 4)"
   ]
  },
  {
   "cell_type": "markdown",
   "metadata": {
    "id": "7g84IcYzWBGE"
   },
   "source": [
    "### 2.4 - Alinhamento de índices em Pandas:\n",
    "\n",
    "Para operações binárias em dois objetos Series ou DataFrame, Pandas alinhará índices no processo de execução da operação. Isso é muito conveniente quando você está trabalhando com dados incompletos, como veremos em alguns dos exemplos que se seguem."
   ]
  },
  {
   "cell_type": "code",
   "execution_count": null,
   "metadata": {
    "id": "PCTZtVRGWBGF"
   },
   "outputs": [],
   "source": [
    "# Exemplo: Alinhamento automático de índices em Pandas\n",
    "# Criação das Series Pandas - area e population\n",
    "\n",
    "area = pd.Series({'Alaska': 1723337, 'Texas': 695662,\n",
    "'California': 423967}, name='área')\n",
    "\n",
    "population = pd.Series({'California': 38332521, 'Texas': 26448193,\n",
    "'New York': 19651127}, name='população')\n",
    "\n",
    "\n",
    "# Pandas irá completar com NaN os dados incompletos (data missing)\n",
    "population / area"
   ]
  },
  {
   "cell_type": "markdown",
   "metadata": {
    "id": "M4H-mgcOWBGI"
   },
   "source": [
    "### Observação:\n",
    "O Array resultante é a união  de índices dos dois arrays de entrada.\n",
    "- Equivale a fazer a união explícita no padrão Python:\n",
    "\n",
    "- Os índices resultantes da união que não tiverem entradas são marcados com NaN (data missing)."
   ]
  },
  {
   "cell_type": "code",
   "execution_count": null,
   "metadata": {
    "id": "9Cnf6KnzC0t7"
   },
   "outputs": [],
   "source": [
    "# Obter a união das duas Séries usando o método .union()\n",
    "common_index = area.index.union(population.index)\n",
    "\n",
    "# Print a união dos índices\n",
    "print(common_index)"
   ]
  },
  {
   "cell_type": "code",
   "execution_count": null,
   "metadata": {
    "id": "r2DL0fCxWBGX"
   },
   "outputs": [],
   "source": [
    "# Exemplo de alinhamento automático em Pandas\n",
    "\n",
    "A = pd.Series([2, 4, 6], index=[0, 1, 2])\n",
    "B = pd.Series([1, 3, 5], index=[1, 2, 3])\n",
    "A + B"
   ]
  },
  {
   "cell_type": "code",
   "execution_count": null,
   "metadata": {
    "id": "4Q3ps2igWBGa"
   },
   "outputs": [],
   "source": [
    "# Exemplo: Similar ao exemplo anterior,\n",
    "#          mas preenchendo os data missing com valor ZERO\n",
    "# Uso do estilo de operadores-métodos no NumPY\n",
    "\n",
    "A.add(B, fill_value=0)\n"
   ]
  },
  {
   "cell_type": "markdown",
   "metadata": {
    "id": "EEdTCp74JYcC"
   },
   "source": [
    "### 2.5. Gráficos com Pandas\n",
    "Como Pandas foi construído sobre o MatPlotLib, podemo sutilizar os métodos desse pacote sobre os tipos Serie e Dataframe.\n",
    "\n"
   ]
  },
  {
   "cell_type": "code",
   "execution_count": null,
   "metadata": {
    "id": "U_6LomCdJVnQ"
   },
   "outputs": [],
   "source": [
    "# Exemplo de uso de métodos de traçado de gráficos em Pandas\n",
    "print(\"Impressão do DataFrame estados\\n\\n\")\n",
    "estados"
   ]
  },
  {
   "cell_type": "code",
   "execution_count": null,
   "metadata": {
    "id": "hRym_FAKKDoH"
   },
   "outputs": [],
   "source": [
    "print(\"Traçado dos gráficos das variáveis, Series, do DataFrame estados\\n\\n\")\n",
    "estados.plot()"
   ]
  },
  {
   "cell_type": "markdown",
   "metadata": {
    "id": "bDrSHHVuWBGd"
   },
   "source": [
    "### 2.6 - Métodos de operadores binários em Pandas:\n",
    "- add() --> Adição\n",
    "- sub(), subtract() --> Subtração\n",
    "- mul(), multiply() --> Multiplicação\n",
    "- truediv(), div(), divide() --> Divição\n",
    "- floordiv()  --> (parte inteira da divisão)\n",
    "- mod()     ---> (resto da divisão)\n",
    "- pow()   --> potência"
   ]
  },
  {
   "cell_type": "markdown",
   "metadata": {
    "id": "TgnyF6RgWBGd"
   },
   "source": [
    "### Exercício: Escreva o seguinte programa\n",
    "    - df1 - Dataframe com 3 linhas e 2 colunas (col1, col2). Inicie o DataFrame de forma ra\n",
    "    - df2 - Dataframe com 2 linhas e 3 colunas (col1, col2, col3)\n",
    "    - df3 = df1 + df2\n",
    "    - df4 = df1 / df2\n",
    "    - o quadrado de df1\n",
    "    - Inicie os DataFrames df1 e df2 de forma randômica."
   ]
  },
  {
   "cell_type": "code",
   "execution_count": null,
   "metadata": {
    "collapsed": true,
    "id": "8jxCdt0QWBGe"
   },
   "outputs": [],
   "source": [
    "# Exercício:\n"
   ]
  },
  {
   "cell_type": "markdown",
   "metadata": {
    "id": "LcEmRHL3WBGj"
   },
   "source": [
    "### Observação:\n",
    "Não podemos esquecer que operações sobre Series e DataFrames Pandas opera por linhas, como nos arrays NumPy."
   ]
  },
  {
   "cell_type": "code",
   "execution_count": null,
   "metadata": {
    "id": "XyWVTXpkWBGk"
   },
   "outputs": [],
   "source": [
    "# Criação de um Array NumPy\n",
    "\n",
    "A = rng.randint(10, size=(3, 4))\n",
    "A"
   ]
  },
  {
   "cell_type": "code",
   "execution_count": null,
   "metadata": {
    "id": "vj_FFhLcWBGn"
   },
   "outputs": [],
   "source": [
    "# Operação por linha entre arrays NumPy\n",
    "A - A[0]"
   ]
  },
  {
   "cell_type": "code",
   "execution_count": null,
   "metadata": {
    "id": "0KSA44fjWBGp"
   },
   "outputs": [],
   "source": [
    "# Criação de uma DataFrame Pandas\n",
    "\n",
    "df = pd.DataFrame(A, columns=list('QRST'))\n",
    "df"
   ]
  },
  {
   "cell_type": "code",
   "execution_count": null,
   "metadata": {
    "id": "G_hnkF6nWBGr"
   },
   "outputs": [],
   "source": [
    "# Operação por linha com DataFrame Pandas\n",
    "\n",
    "df - df.iloc[0]"
   ]
  },
  {
   "cell_type": "code",
   "execution_count": null,
   "metadata": {
    "id": "OjCvjMNNWBGv"
   },
   "outputs": [],
   "source": [
    "# Operação de subtração por coluna sobre DataFrame Pandas\n",
    "\n",
    "df.subtract(df['R'], axis=0)"
   ]
  },
  {
   "cell_type": "code",
   "execution_count": null,
   "metadata": {
    "id": "TdNQsQtBWBG1"
   },
   "outputs": [],
   "source": [
    "# Exercício\n",
    "# Explique o que a linha de código abaixo executa.\n",
    "\n",
    "halfrow = df.iloc[0, ::2]\n",
    "halfrow\n",
    "#df - halfrow"
   ]
  },
  {
   "cell_type": "markdown",
   "metadata": {
    "id": "iRAE8iGZWBG7"
   },
   "source": [
    "### 2.7 - Concatenação de Series e DataFrames Pandas"
   ]
  },
  {
   "cell_type": "code",
   "execution_count": null,
   "metadata": {
    "id": "pDrQwYtAWBG9"
   },
   "outputs": [],
   "source": [
    "# Concatenação de Series Pandas\n",
    "\n",
    "ser1 = pd.Series(['A', 'B', 'C'], index=[1, 2, 3])\n",
    "ser2 = pd.Series(['D', 'E', 'F'], index=[4, 5, 6])\n",
    "pd.concat([ser1, ser2])"
   ]
  },
  {
   "cell_type": "code",
   "execution_count": null,
   "metadata": {
    "id": "OyhkT4_2WBHC"
   },
   "outputs": [],
   "source": [
    "# Função para preencher um DataFrame Pandas\n",
    "\n",
    "def make_df(cols, ind):\n",
    "  data = {c: [str(c) + str(i) for i in ind]\n",
    "  for c in cols}\n",
    "  return pd.DataFrame(data, ind)\n",
    "\n",
    "# exemplo de uso da função DataFrame\n",
    "make_df('ABC', range(3))"
   ]
  },
  {
   "cell_type": "code",
   "execution_count": null,
   "metadata": {
    "id": "b6TYtFB-WBHH"
   },
   "outputs": [],
   "source": [
    "# Concatenação de DataFrames Pandas\n",
    "\n",
    "df1 = make_df('AB', [1, 2])\n",
    "df2 = make_df('AB', [3, 4])\n",
    "print(df1);\n",
    "print()\n",
    "print(df2)\n",
    "print()\n",
    "print(pd.concat([df1, df2]))"
   ]
  },
  {
   "cell_type": "markdown",
   "metadata": {
    "id": "BTA2T9nEWBHU"
   },
   "source": [
    "### 2.8 - Objeto Index em Pandas\n",
    "\n",
    "> Bloco com recuo\n",
    "\n",
    "\n",
    "É uma classe em Pandas que possui métodos próprios para operar sobre os índices de objetos Pandas, como Series e DataFrames.\n",
    "Index pode ser:\n",
    "- Array imutável\n",
    "- Conjunto ordenado"
   ]
  },
  {
   "cell_type": "code",
   "execution_count": null,
   "metadata": {
    "id": "KpR0ENx2WBHV"
   },
   "outputs": [],
   "source": [
    "# Criação de um objeto Index como Array Imutável\n",
    "# No caos, uma lista de inteiros\n",
    "\n",
    "ind = pd.Index([2, 3, 5, 7, 11])\n",
    "print(ind)\n",
    "print(ind[1])\n",
    "print(ind[::2])\n",
    "print(\"\\nObjeto Index possui métodos similares aos dos arrays NumPy\")\n",
    "print(ind.size, ind.shape, ind.ndim, ind.dtype)"
   ]
  },
  {
   "cell_type": "code",
   "execution_count": null,
   "metadata": {
    "id": "Hg-KL66BWBHX"
   },
   "outputs": [],
   "source": [
    "# Index não podem ser modificados - Eles são imutáveis\n",
    "nd[1] = 0"
   ]
  },
  {
   "cell_type": "code",
   "execution_count": null,
   "metadata": {
    "id": "YQWkU9D1WBHe"
   },
   "outputs": [],
   "source": [
    "# Criação de um objeto Index conjunto ordenado\n",
    "\n",
    "indA = pd.Index([1, 3, 5, 7, 9])\n",
    "indB = pd.Index([2, 3, 5, 7, 11])\n",
    "\n",
    "print(\"interseção --> \", indA & indB)\n",
    "\n",
    "print(\"união -->  \", indA | indB)\n",
    "\n",
    "print(\"diferença simétrica --> \",  indA ^ indB)\n"
   ]
  },
  {
   "cell_type": "markdown",
   "metadata": {
    "id": "lvz_6a2TWBHh"
   },
   "source": [
    "### 3. Carregar, armazenar e formatar DataFrames\n",
    "\n"
   ]
  },
  {
   "cell_type": "markdown",
   "metadata": {
    "id": "bNXEWvrLWBHh"
   },
   "source": [
    "### 3.1. Métodos para carregar/ler/importar dados tipo DataFrame Pandas\n",
    "\n",
    "Pandas possui vários métodos para ler dados tabulados.\n",
    "- pd.read_csv('arquivo.csv', parametros). Carrega dado com formato .csv delimitado a partir de um arquivo, URL ou objeto tipo arquivo. Usa vígula como delimitador padrão.\n",
    "\n",
    "\n",
    "- pd.read_table(árquivo.txt', parametros) -  Carrega dado delimitado a partir de arquivo, URL, ou objeto tipo arquivo. Usa tab ('\\t') como delimitador padrão.\n"
   ]
  },
  {
   "cell_type": "code",
   "execution_count": null,
   "metadata": {
    "id": "Uv09oG7rWBHi"
   },
   "outputs": [],
   "source": [
    "# Precisa fazer o download do arquivo ScoobyDoo.csv para a área do colab antes carregá-lo no ambiente\n",
    "import pandas as pd\n",
    "\n",
    "teste1 = pd.read_csv('ScoobyDoo.csv')"
   ]
  },
  {
   "cell_type": "code",
   "execution_count": null,
   "metadata": {
    "id": "44SyyeaiWBHn"
   },
   "outputs": [],
   "source": [
    "teste1"
   ]
  },
  {
   "cell_type": "code",
   "execution_count": null,
   "metadata": {},
   "outputs": [],
   "source": [
    "# Alternativamente pode carregar os arquivos direitamente do github\n",
    "\n",
    "# Link direto (raw) para o CSV hospedado no GitHub\n",
    "csv_url = \"https://raw.githubusercontent.com/igendriz/DCA3501-Ciencia-Dados/main/Dataset/ScoobyDoo.csv\"\n",
    "\n",
    "teste1 = pd.read_csv(csv_url)\n",
    "teste1"
   ]
  },
  {
   "cell_type": "code",
   "execution_count": null,
   "metadata": {
    "id": "P8p6XNqvWBHp"
   },
   "outputs": [],
   "source": [
    "teste2 = pd.read_csv('ScoobyDoo.csv', header=None, sep=';')"
   ]
  },
  {
   "cell_type": "code",
   "execution_count": null,
   "metadata": {
    "id": "yQsK-QfdWBHr"
   },
   "outputs": [],
   "source": [
    "teste2"
   ]
  },
  {
   "cell_type": "code",
   "execution_count": null,
   "metadata": {
    "id": "_NP5z-NHWBHw"
   },
   "outputs": [],
   "source": [
    "# Exemplo: Obtendo informação do DataFrame\n",
    "teste1.info()"
   ]
  },
  {
   "cell_type": "code",
   "execution_count": null,
   "metadata": {
    "id": "zFVtATWgWBH0"
   },
   "outputs": [],
   "source": [
    "teste3 = pd.read_csv('ScoobyDoo.csv', names=['Coluna 1', 'Coluna 2'])\n",
    "teste3"
   ]
  },
  {
   "cell_type": "code",
   "execution_count": null,
   "metadata": {
    "id": "KtONRktiWBH4"
   },
   "outputs": [],
   "source": [
    "teste3.describe()"
   ]
  },
  {
   "cell_type": "markdown",
   "metadata": {
    "id": "Hyw9A08SWBH6"
   },
   "source": [
    "Exemplos de algumas possibilidades de cálculo com DataFrame"
   ]
  },
  {
   "cell_type": "code",
   "execution_count": null,
   "metadata": {
    "id": "XX_LzqaJWBH9"
   },
   "outputs": [],
   "source": [
    "#teste1['idade'].mean()\n",
    "teste1"
   ]
  },
  {
   "cell_type": "code",
   "execution_count": null,
   "metadata": {
    "id": "Cq4SqlQIJS68"
   },
   "outputs": [],
   "source": [
    "teste4 = pd.read_csv('ScoobyDoo.csv', names=['nome', 'idade'])\n",
    "teste4['idade'].sum()\n",
    "\n"
   ]
  },
  {
   "cell_type": "code",
   "execution_count": null,
   "metadata": {
    "id": "R_EDZDXRLj7C"
   },
   "outputs": [],
   "source": []
  },
  {
   "cell_type": "code",
   "execution_count": null,
   "metadata": {
    "id": "yIZFrX3QWBIA"
   },
   "outputs": [],
   "source": [
    "teste4['idade']>19"
   ]
  },
  {
   "cell_type": "code",
   "execution_count": null,
   "metadata": {
    "id": "p-fPGOdOWBII"
   },
   "outputs": [],
   "source": [
    "# Exercício: Inclua uma coluna 'Sexo'no DataFrame teste4\n",
    "# Atribua o sexo adequadamente para os personagens\n",
    "# ('M'- masculino, 'F' - Feminino')\n",
    "# Calcule a média de idade dos personagens femininos\n"
   ]
  },
  {
   "cell_type": "code",
   "execution_count": null,
   "metadata": {
    "id": "SxM2wWLWWBIT"
   },
   "outputs": [],
   "source": [
    "# Exercício: Inclua uma coluna 'Peso' no DataFrame teste4\n",
    "# Scooby - 40 kg\n",
    "# Salsicha - 55 kg\n",
    "# Fred  - 70 Kg\n",
    "#\n",
    "# Velma = None\n",
    "# Daphne = 50 Kg\n"
   ]
  },
  {
   "cell_type": "code",
   "execution_count": null,
   "metadata": {
    "id": "P2TJKcyJWBIY"
   },
   "outputs": [],
   "source": [
    "# Exercício: Inclua uma coluna 'Altura' no DataFrame teste4\n",
    "# Scooby - 1.5m\n",
    "# Salsicha - 1.75m\n",
    "# Fred  - 1.80m\n",
    "#\n",
    "# Velma = 1.60m\n",
    "# Daphne = 1.65m"
   ]
  },
  {
   "cell_type": "code",
   "execution_count": null,
   "metadata": {
    "id": "1YunwzfXWBIc"
   },
   "outputs": [],
   "source": [
    "# Exercício: Inclua uma coluna 'IMC' no DataFrame teste4\n",
    "# Preencha essa coluna com o valor de Índice de Massa Corporea dos personagens\n",
    "# Obtenha o personagem que tem a menor IMC"
   ]
  },
  {
   "cell_type": "markdown",
   "metadata": {
    "id": "NoR_8du_WBIe"
   },
   "source": [
    "### 3.2. Lendo arquivos via URL"
   ]
  },
  {
   "cell_type": "code",
   "execution_count": null,
   "metadata": {
    "id": "Y7hk_vB6WBIe"
   },
   "outputs": [],
   "source": [
    "# arquivo do GitHub - Livro Handbook of data Science\n",
    "Estados_USA = pd.read_csv('https://raw.githubusercontent.com/jakevdp/PythonDataScienceHandbook/master/notebooks/data/state-population.csv')"
   ]
  },
  {
   "cell_type": "code",
   "execution_count": null,
   "metadata": {
    "id": "BwqnVeH5WBIg"
   },
   "outputs": [],
   "source": [
    "Estados_USA.head()"
   ]
  },
  {
   "cell_type": "markdown",
   "metadata": {
    "id": "bEDTOvRPWBIi"
   },
   "source": [
    "### 3.3. Salvando DataFrames como arquivos .csv, .xlx, etc"
   ]
  },
  {
   "cell_type": "code",
   "execution_count": null,
   "metadata": {
    "id": "_2xVh7XWWBIj"
   },
   "outputs": [],
   "source": [
    "teste4.to_csv('teste4.csv')"
   ]
  },
  {
   "cell_type": "code",
   "execution_count": null,
   "metadata": {
    "id": "iNH0XCAlWBIl"
   },
   "outputs": [],
   "source": [
    "#dataF.to_excel('nome_do_arquivo.xlsx', index=False)"
   ]
  },
  {
   "cell_type": "code",
   "execution_count": null,
   "metadata": {
    "id": "fL5uHJQxxB8a"
   },
   "outputs": [],
   "source": [
    "from google.colab import files\n",
    "\n",
    "uploaded = files.upload()\n",
    "\n",
    "for fn in uploaded.keys():\n",
    "  print('User uploaded file \"{name}\" with length {length} bytes'.format(\n",
    "      name=fn, length=len(uploaded[fn])))"
   ]
  },
  {
   "cell_type": "code",
   "execution_count": null,
   "metadata": {
    "id": "r1c-wia0xWvs"
   },
   "outputs": [],
   "source": [
    "import pandas as pd\n",
    "df = (pd.read_csv(\"births.csv\"))\n",
    "serie = pd.Series(df)\n",
    "serie"
   ]
  }
 ],
 "metadata": {
  "colab": {
   "provenance": []
  },
  "kernelspec": {
   "display_name": "Python 3",
   "language": "python",
   "name": "python3"
  }
 },
 "nbformat": 4,
 "nbformat_minor": 0
}
